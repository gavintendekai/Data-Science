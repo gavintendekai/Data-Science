{
  "cells": [
    {
      "cell_type": "markdown",
      "id": "5557db08-36ed-4a7e-9981-4c65cb2724e4",
      "metadata": {},
      "outputs": [],
      "source": [
        "<center>\n",
        "    <img src=\"https://cf-courses-data.s3.us.cloud-object-storage.appdomain.cloud/IBMDeveloperSkillsNetwork-PY0101EN-SkillsNetwork/IDSNlogo.png\" width=\"300\" alt=\"cognitiveclass.ai logo\">\n",
        "</center>\n",
        "\n",
        "# Functions in Python\n",
        "\n",
        "Estimated time needed: **40** minutes\n",
        "\n",
        "## Objectives\n",
        "\n",
        "After completing this lab you will be able to:\n",
        "\n",
        "*   Understand functions and variables\n",
        "*   Work with functions and variables\n"
      ]
    },
    {
      "cell_type": "markdown",
      "id": "59c845c5-7e13-4952-92ad-8e6a71325576",
      "metadata": {},
      "outputs": [],
      "source": [
        "<h1>Functions in Python</h1>\n"
      ]
    },
    {
      "cell_type": "markdown",
      "id": "5ef43380-e247-424c-a2ac-ef15a41c1591",
      "metadata": {},
      "outputs": [],
      "source": [
        "<p><strong>Welcome!</strong> This notebook will teach you about the functions in the Python Programming Language. By the end of this lab, you'll know the basic concepts about functions, variables, and how to use functions.</p>\n"
      ]
    },
    {
      "cell_type": "markdown",
      "id": "ad44856e-778e-44eb-84a5-fcb75e13a8fc",
      "metadata": {},
      "outputs": [],
      "source": [
        "<h2>Table of Contents</h2>\n",
        "<div class=\"alert alert-block alert-info\" style=\"margin-top: 20px\">\n",
        "    <ul>\n",
        "        <li>\n",
        "            <a href=\"https://#func\">Functions</a>\n",
        "            <ul>\n",
        "                <li><a href=\"https://content/?utm_medium=Exinfluencer&utm_source=Exinfluencer&utm_content=000026UJ&utm_term=10006555&utm_id=NA-SkillsNetwork-Channel-SkillsNetworkCoursesIBMDeveloperSkillsNetworkPY0101ENSkillsNetwork19487395-2021-01-01\">What is a function?</a></li>\n",
        "                <li><a href=\"https://var/?utm_medium=Exinfluencer&utm_source=Exinfluencer&utm_content=000026UJ&utm_term=10006555&utm_id=NA-SkillsNetwork-Channel-SkillsNetworkCoursesIBMDeveloperSkillsNetworkPY0101ENSkillsNetwork19487395-2021-01-01\">Variables</a></li>\n",
        "                <li><a href=\"https://simple/?utm_medium=Exinfluencer&utm_source=Exinfluencer&utm_content=000026UJ&utm_term=10006555&utm_id=NA-SkillsNetwork-Channel-SkillsNetworkCoursesIBMDeveloperSkillsNetworkPY0101ENSkillsNetwork19487395-2021-01-01\">Functions Make Things Simple</a></li>\n",
        "            </ul>\n",
        "        </li>\n",
        "        <li><a href=\"https://pre/?utm_medium=Exinfluencer&utm_source=Exinfluencer&utm_content=000026UJ&utm_term=10006555&utm_id=NA-SkillsNetwork-Channel-SkillsNetworkCoursesIBMDeveloperSkillsNetworkPY0101ENSkillsNetwork19487395-2021-01-01\">Pre-defined functions</a></li>\n",
        "        <li><a href=\"https://if/?utm_medium=Exinfluencer&utm_source=Exinfluencer&utm_content=000026UJ&utm_term=10006555&utm_id=NA-SkillsNetwork-Channel-SkillsNetworkCoursesIBMDeveloperSkillsNetworkPY0101ENSkillsNetwork19487395-2021-01-01\">Using <code>if</code>/<code>else</code> Statements and Loops in Functions</a></li>\n",
        "        <li><a href=\"https://default/?utm_medium=Exinfluencer&utm_source=Exinfluencer&utm_content=000026UJ&utm_term=10006555&utm_id=NA-SkillsNetwork-Channel-SkillsNetworkCoursesIBMDeveloperSkillsNetworkPY0101ENSkillsNetwork19487395-2021-01-01\">Setting default argument values in your custom functions</a></li>\n",
        "        <li><a href=\"https://global/?utm_medium=Exinfluencer&utm_source=Exinfluencer&utm_content=000026UJ&utm_term=10006555&utm_id=NA-SkillsNetwork-Channel-SkillsNetworkCoursesIBMDeveloperSkillsNetworkPY0101ENSkillsNetwork19487395-2021-01-01\">Global variables</a></li>\n",
        "        <li><a href=\"https://scope/?utm_medium=Exinfluencer&utm_source=Exinfluencer&utm_content=000026UJ&utm_term=10006555&utm_id=NA-SkillsNetwork-Channel-SkillsNetworkCoursesIBMDeveloperSkillsNetworkPY0101ENSkillsNetwork19487395-2021-01-01\">Scope of a Variable</a></li>\n",
        "        <li><a href=\"https://collec/?utm_medium=Exinfluencer&utm_source=Exinfluencer&utm_content=000026UJ&utm_term=10006555&utm_id=NA-SkillsNetwork-Channel-SkillsNetworkCoursesIBMDeveloperSkillsNetworkPY0101ENSkillsNetwork19487395-2021-01-01\">Collections and Functions</a></li>\n",
        "        <li>\n",
        "            <a href=\"https://#quiz\">Quiz on Loops</a>\n",
        "        </li>\n",
        "    </ul>\n",
        "\n",
        "</div>\n",
        "\n",
        "<hr>\n"
      ]
    },
    {
      "cell_type": "markdown",
      "id": "0e218e3b-ebc6-4e20-a165-0c33e12048c1",
      "metadata": {},
      "outputs": [],
      "source": [
        "<h2 id=\"func\">Functions</h2>\n"
      ]
    },
    {
      "cell_type": "markdown",
      "id": "3e07b8da-b2a7-422b-8def-3909121d9905",
      "metadata": {},
      "outputs": [],
      "source": [
        "A function is a reusable block of code which performs operations specified in the function. They let you break down tasks and allow you to reuse your code in different programs.\n",
        "\n",
        "There are two types of functions :\n",
        "\n",
        "*   <b>Pre-defined functions</b>\n",
        "*   <b>User defined functions</b>\n"
      ]
    },
    {
      "cell_type": "markdown",
      "id": "d10af786-d1c5-4175-b031-779e15209451",
      "metadata": {},
      "outputs": [],
      "source": [
        "<h3 id=\"content\">What is a Function?</h3>\n"
      ]
    },
    {
      "cell_type": "markdown",
      "id": "3e8f8f64-1657-443c-bd02-d376205a6bb3",
      "metadata": {},
      "outputs": [],
      "source": [
        "You can define functions to provide the required functionality. Here are simple rules to define a function in Python:\n",
        "\n",
        "*   Functions blocks begin <code>def</code> followed by the function <code>name</code> and parentheses <code>()</code>.\n",
        "*   There are input parameters or arguments that should be placed within these parentheses.\n",
        "*   You can also define parameters inside these parentheses.\n",
        "*   There is a body within every function that starts with a colon (<code>:</code>) and is indented.\n",
        "*   You can also place documentation before the body.\n",
        "*   The statement <code>return</code> exits a function, optionally passing back a value.\n",
        "\n",
        "An example of a function that adds on to the parameter <code>a</code> prints and returns the output as <code>b</code>:\n"
      ]
    },
    {
      "cell_type": "code",
      "id": "1e70530b-721c-4c20-8334-48d41d7cb12d",
      "metadata": {},
      "outputs": [],
      "source": [
        "# First function example: Add 1 to a and store as b\n\ndef add(a):\n    \"\"\"\n    add 1 to a\n    \"\"\"\n    b = a + 1\n    print(a, \"if you add one\", b)\n    return(b)"
      ]
    },
    {
      "cell_type": "markdown",
      "id": "39d113aa-7f81-473f-ad3e-a524dcd97c4b",
      "metadata": {},
      "outputs": [],
      "source": [
        "The figure below illustrates the terminology:\n"
      ]
    },
    {
      "cell_type": "markdown",
      "id": "263b5c4c-cc57-4ee1-9d33-7cfa383eb72c",
      "metadata": {},
      "outputs": [],
      "source": [
        "<img src=\"https://cf-courses-data.s3.us.cloud-object-storage.appdomain.cloud/IBMDeveloperSkillsNetwork-PY0101EN-SkillsNetwork/labs/Module%203/images/FuncsDefinition.png\" width=\"500\"> \n"
      ]
    },
    {
      "cell_type": "markdown",
      "id": "c5b22a58-da3a-4022-9d3b-1d5b8d29a46e",
      "metadata": {},
      "outputs": [],
      "source": [
        "We can obtain help about a function :\n"
      ]
    },
    {
      "cell_type": "code",
      "id": "1951b8e6-1807-40bf-98b0-561105d5abcb",
      "metadata": {},
      "outputs": [],
      "source": [
        "# Get a help on add function\n\nhelp(add)"
      ]
    },
    {
      "cell_type": "markdown",
      "id": "562f2237-7c28-4223-9a17-8ba27d28bcc4",
      "metadata": {},
      "outputs": [],
      "source": [
        "We can call the function:\n"
      ]
    },
    {
      "cell_type": "code",
      "id": "5eae23a6-4d17-4010-bd69-c8e387c6f2a9",
      "metadata": {},
      "outputs": [],
      "source": [
        "# Call the function add()\n\nadd(1)"
      ]
    },
    {
      "cell_type": "markdown",
      "id": "ac74edbd-6678-4e77-a32e-944116788d48",
      "metadata": {},
      "outputs": [],
      "source": [
        "If we call the function with a new input we get a new result:\n"
      ]
    },
    {
      "cell_type": "code",
      "id": "1abc3224-1667-444d-b9ce-aac9fba394fc",
      "metadata": {},
      "outputs": [],
      "source": [
        "# Call the function add()\n\nadd(2)"
      ]
    },
    {
      "cell_type": "markdown",
      "id": "5b25f0e6-4d35-44a0-8775-be722bf65bc4",
      "metadata": {},
      "outputs": [],
      "source": [
        "We can create different functions. For example, we can create a function that multiplies two numbers. The numbers will be represented by the variables <code>a</code> and <code>b</code>:\n"
      ]
    },
    {
      "cell_type": "code",
      "id": "9ef1fc85-0aa6-4bea-a31d-df01cb6517b1",
      "metadata": {},
      "outputs": [],
      "source": [
        "# Define a function for multiple two numbers\n\ndef Mult(a, b):\n    c = a * b\n    return(c)\n    print('This is not printed')\n    \nresult = Mult(12,2)\nprint(result)"
      ]
    },
    {
      "cell_type": "markdown",
      "id": "af1a3ef3-eca2-4a2f-9f47-b40296077b67",
      "metadata": {},
      "outputs": [],
      "source": [
        "The same function can be used for different data types. For example, we can multiply two integers:\n"
      ]
    },
    {
      "cell_type": "code",
      "id": "d0667d99-6ed9-4531-b73f-8ef7b7a5da1b",
      "metadata": {},
      "outputs": [],
      "source": [
        "# Use mult() multiply two integers\n\nMult(2, 3)"
      ]
    },
    {
      "cell_type": "markdown",
      "id": "a3e97837-3315-4534-9659-f8278df6873c",
      "metadata": {},
      "outputs": [],
      "source": [
        "Note how the function terminates at the <code> return </code> statement, while passing back a value. This value can be further assigned to a different variable as desired.\n",
        "\n",
        "<hr>\n",
        "The same function can be used for different data types. For example, we can multiply two integers:\n"
      ]
    },
    {
      "cell_type": "markdown",
      "id": "1ade61f1-0ca5-4d66-a78c-379004d751a6",
      "metadata": {},
      "outputs": [],
      "source": [
        "Two Floats:\n"
      ]
    },
    {
      "cell_type": "code",
      "id": "5eebe1c4-16e9-4b64-94e1-536a29f5f2a2",
      "metadata": {},
      "outputs": [],
      "source": [
        "# Use mult() multiply two floats\n\nMult(10.0, 3.14)"
      ]
    },
    {
      "cell_type": "markdown",
      "id": "093b9c54-52bc-45a2-9e11-283d6d78d323",
      "metadata": {},
      "outputs": [],
      "source": [
        "We can even replicate a string by multiplying with an integer:\n"
      ]
    },
    {
      "cell_type": "code",
      "id": "a845dbbd-208f-4d3d-b6c0-923b466300b6",
      "metadata": {},
      "outputs": [],
      "source": [
        "# Use mult() multiply two different type values together\n\nMult(2, \"Michael Jackson \")"
      ]
    },
    {
      "cell_type": "markdown",
      "id": "8a513368-ea32-4230-b758-49304f4864de",
      "metadata": {},
      "outputs": [],
      "source": [
        "<h3 id=\"var\">Variables</h3>\n"
      ]
    },
    {
      "cell_type": "markdown",
      "id": "c1a25660-df17-43aa-a57b-0b192298314a",
      "metadata": {},
      "outputs": [],
      "source": [
        "The input to a function is called a formal parameter.\n",
        "\n",
        "A variable that is declared inside a function is called a  local variable. The parameter only exists within the function (i.e. the point where the function starts and stops).\n",
        "\n",
        "A variable that is declared outside a function definition is a global variable, and its value is accessible and modifiable throughout the program. We will discuss more about global variables at the end of the lab.\n"
      ]
    },
    {
      "cell_type": "code",
      "id": "7c783d97-0dcd-4c65-b296-3dbf5c5b7d47",
      "metadata": {},
      "outputs": [],
      "source": [
        "# Function Definition\n\ndef square(a):\n    \n    # Local variable b\n    b = 1\n    c = a * a + b\n    print(a, \"if you square + 1\", c) \n    return(c)"
      ]
    },
    {
      "cell_type": "markdown",
      "id": "03c5cc46-eebe-4aca-9cf5-10652416062f",
      "metadata": {},
      "outputs": [],
      "source": [
        "The labels are displayed in the figure:\n"
      ]
    },
    {
      "cell_type": "markdown",
      "id": "2288daea-18bd-4705-bdb4-fc91a5c06273",
      "metadata": {},
      "outputs": [],
      "source": [
        "<img src=\"https://cf-courses-data.s3.us.cloud-object-storage.appdomain.cloud/IBMDeveloperSkillsNetwork-PY0101EN-SkillsNetwork/labs/Module%203/images/FuncsVar.png\" width=\"500\">\n"
      ]
    },
    {
      "cell_type": "markdown",
      "id": "64471d54-8fa6-42ad-a80b-d2447473f56a",
      "metadata": {},
      "outputs": [],
      "source": [
        "We can call the function  with an input of <b>3</b>:\n"
      ]
    },
    {
      "cell_type": "code",
      "id": "bc4b89d1-dae6-4839-81f0-d04882bae7f9",
      "metadata": {},
      "outputs": [],
      "source": [
        "# Initializes Global variable  \n\nx = 3\n# Makes function call and return function a y\ny = square(x)\ny"
      ]
    },
    {
      "cell_type": "markdown",
      "id": "092c1aeb-f07a-4f8d-be65-2347707a369a",
      "metadata": {},
      "outputs": [],
      "source": [
        "We can call the function  with an input of <b>2</b> in a different manner:\n"
      ]
    },
    {
      "cell_type": "code",
      "id": "9918f292-ccb0-42a4-a116-0eb9e8755c0b",
      "metadata": {},
      "outputs": [],
      "source": [
        "# Directly enter a number as parameter\n\nsquare(2)"
      ]
    },
    {
      "cell_type": "markdown",
      "id": "7ba29a63-4602-4ced-8288-fbf7973ff633",
      "metadata": {},
      "outputs": [],
      "source": [
        "If there is no <code>return</code> statement, the function returns <code>None</code>. The following two functions are equivalent:\n"
      ]
    },
    {
      "cell_type": "code",
      "id": "94f73c60-8ef3-476a-9780-06b941534834",
      "metadata": {},
      "outputs": [],
      "source": [
        "# Define functions, one with return value None and other without return value\n\ndef MJ():\n    print('Michael Jackson')\n    \ndef MJ1():\n    print('Michael Jackson')\n    return(None)"
      ]
    },
    {
      "cell_type": "code",
      "id": "6792198d-3cb2-4f26-afef-f34a0c0b9551",
      "metadata": {},
      "outputs": [],
      "source": [
        "# See the output\n\nMJ()"
      ]
    },
    {
      "cell_type": "code",
      "id": "ca3e1f1b-ff19-45c3-9665-80c1db734a94",
      "metadata": {},
      "outputs": [],
      "source": [
        "# See the output\n\nMJ1()"
      ]
    },
    {
      "cell_type": "markdown",
      "id": "50e3d530-5a5a-4848-99bb-5f63496bb3fa",
      "metadata": {},
      "outputs": [],
      "source": [
        "Printing the function after a call reveals a **None** is the default return statement:\n"
      ]
    },
    {
      "cell_type": "code",
      "id": "818b70ad-a92d-44c5-887b-2a41eaea092e",
      "metadata": {},
      "outputs": [],
      "source": [
        "# See what functions returns are\n\nprint(MJ())\nprint(MJ1())"
      ]
    },
    {
      "cell_type": "markdown",
      "id": "4e69a6ea-741a-4b48-9fbb-66f70ab1d7f4",
      "metadata": {},
      "outputs": [],
      "source": [
        "Create a function <code>con</code> that  concatenates two strings using the addition operation:\n"
      ]
    },
    {
      "cell_type": "code",
      "id": "4bc1832a-4973-4080-aaa8-6bf489cb29a1",
      "metadata": {},
      "outputs": [],
      "source": [
        "# Define the function for combining strings\n\ndef con(a, b):\n    return(a + b)"
      ]
    },
    {
      "cell_type": "code",
      "id": "c7f83910-ac1d-469b-8b04-871a402405eb",
      "metadata": {},
      "outputs": [],
      "source": [
        "# Test on the con() function\n\ncon(\"This \", \"is\")"
      ]
    },
    {
      "cell_type": "markdown",
      "id": "0295ca57-1721-4c18-94fd-605a386c4e3d",
      "metadata": {},
      "outputs": [],
      "source": [
        "<hr/>\n",
        "    <div class=\"alert alert-success alertsuccess\" style=\"margin-top: 20px\">\n",
        "        <h4> [Tip] How do I learn more about the pre-defined functions in Python? </h4>\n",
        "        <p>We will be introducing a variety of pre-defined functions to you as you learn more about Python. There are just too many functions, so there's no way we can teach them all in one sitting. But if you'd like to take a quick peek, here's a short reference card for some of the commonly-used pre-defined functions: <a href=\"https://cf-courses-data.s3.us.cloud-object-storage.appdomain.cloud/IBMDeveloperSkillsNetwork-PY0101EN-SkillsNetwork/labs/Module%203/Python_reference_sheet.pdf?utm_medium=Exinfluencer&utm_source=Exinfluencer&utm_content=000026UJ&utm_term=10006555&utm_id=NA-SkillsNetwork-Channel-SkillsNetworkCoursesIBMDeveloperSkillsNetworkPY0101ENSkillsNetwork19487395-2021-01-01\">Reference</a></p>\n",
        "    </div>\n",
        "<hr/>\n"
      ]
    },
    {
      "cell_type": "markdown",
      "id": "4f71d142-91ff-4e32-af69-34b3c83f817f",
      "metadata": {},
      "outputs": [],
      "source": [
        "<h3 id=\"simple\">Functions Make Things Simple</h3>\n"
      ]
    },
    {
      "cell_type": "markdown",
      "id": "50eba547-fe23-4ab5-b590-59a530640801",
      "metadata": {},
      "outputs": [],
      "source": [
        "Consider the two lines of code in <b>Block 1</b> and <b>Block 2</b>: the procedure for each block is identical. The only thing that is different is the variable names and values.\n"
      ]
    },
    {
      "cell_type": "markdown",
      "id": "0efebe3a-f212-4c75-84bf-2f3cd41f4422",
      "metadata": {},
      "outputs": [],
      "source": [
        "<h4>Block 1:</h4>\n"
      ]
    },
    {
      "cell_type": "code",
      "id": "9ec0bb7c-97c4-48a3-8d11-e6f112323db9",
      "metadata": {},
      "outputs": [],
      "source": [
        "# a and b calculation block1\n\na1 = 4\nb1 = 5\nc1 = a1 + b1 + 2 * a1 * b1 - 1\nif(c1 < 0):\n    c1 = 0 \nelse:\n    c1 = 5\nc1   "
      ]
    },
    {
      "cell_type": "markdown",
      "id": "29f7a8ae-de9c-4145-9c67-c7976e907cf7",
      "metadata": {},
      "outputs": [],
      "source": [
        "<h4>Block 2:</h4>\n"
      ]
    },
    {
      "cell_type": "code",
      "id": "a2b19e30-6b8a-4f4b-b9ac-054abdda0307",
      "metadata": {},
      "outputs": [],
      "source": [
        "# a and b calculation block2\n\na2 = 0\nb2 = 0\nc2 = a2 + b2 + 2 * a2 * b2 - 1\nif(c2 < 0):\n    c2 = 0 \nelse:\n    c2 = 5\nc2   "
      ]
    },
    {
      "cell_type": "markdown",
      "id": "1f3e3b11-0dfe-4e13-814d-965a27dce375",
      "metadata": {},
      "outputs": [],
      "source": [
        "We can replace the lines of code with a function. A function combines many instructions into a single line of code. Once a function is defined, it can be used repeatedly. You can invoke the same function many times in your program. You can save your function and use it in another program or use someone else’s function. The lines of code in code <b>Block 1</b> and code <b>Block 2</b> can be replaced by the following function:\n"
      ]
    },
    {
      "cell_type": "code",
      "id": "7ef62e6f-c92b-44f4-9ba9-3df5598fd9a0",
      "metadata": {},
      "outputs": [],
      "source": [
        "# Make a Function for the calculation above\n\ndef Equation(a,b):\n    c = a + b + 2 * a * b - 1\n    if(c < 0):\n        c = 0 \n    else:\n        c = 5\n    return(c) "
      ]
    },
    {
      "cell_type": "markdown",
      "id": "eeac2188-56ab-46d3-85c9-bdd5f7ef4438",
      "metadata": {},
      "outputs": [],
      "source": [
        "This function takes two inputs, a and b, then applies several operations to return c.\n",
        "We simply define the function, replace the instructions with the function, and input the new values of <code>a1</code>, <code>b1</code> and <code>a2</code>, <code>b2</code> as inputs. The entire process is demonstrated in the figure:\n"
      ]
    },
    {
      "cell_type": "markdown",
      "id": "52618dbc-d27f-42f7-8076-dd8d54d3cae3",
      "metadata": {},
      "outputs": [],
      "source": [
        "<img src=\"https://cf-courses-data.s3.us.cloud-object-storage.appdomain.cloud/IBMDeveloperSkillsNetwork-PY0101EN-SkillsNetwork/labs/Module%203/images/FuncsPros.gif\" width=\"850\">\n"
      ]
    },
    {
      "cell_type": "markdown",
      "id": "7b51883b-df18-4609-a6d9-8730378843b8",
      "metadata": {},
      "outputs": [],
      "source": [
        "Code **Blocks 1** and **Block 2** can now be replaced with code **Block 3** and code **Block 4**.\n"
      ]
    },
    {
      "cell_type": "markdown",
      "id": "f7d54921-abe9-4556-b008-0f2bd1d7d843",
      "metadata": {},
      "outputs": [],
      "source": [
        "<h4>Block 3:</h4>\n"
      ]
    },
    {
      "cell_type": "code",
      "id": "80d045a2-85fa-4b4a-bf54-bde8672585bc",
      "metadata": {},
      "outputs": [],
      "source": [
        "a1 = 4\nb1 = 5\nc1 = Equation(a1, b1)\nc1"
      ]
    },
    {
      "cell_type": "markdown",
      "id": "9b8a747e-63d3-4f80-9b34-4b5763fc7e1a",
      "metadata": {},
      "outputs": [],
      "source": [
        "<h4>Block 4:</h4>\n"
      ]
    },
    {
      "cell_type": "code",
      "id": "6c62b852-3aca-4d34-84ab-228d3fd9c0a1",
      "metadata": {},
      "outputs": [],
      "source": [
        "a2 = 0\nb2 = 0\nc2 = Equation(a2, b2)\nc2"
      ]
    },
    {
      "cell_type": "markdown",
      "id": "2e69ec29-0376-41f1-9704-0d5cf7e983bb",
      "metadata": {},
      "outputs": [],
      "source": [
        "<hr>\n"
      ]
    },
    {
      "cell_type": "markdown",
      "id": "919dc40f-4b39-4c4f-a135-20b09e848b2c",
      "metadata": {},
      "outputs": [],
      "source": [
        "<h2 id=\"pre\">Pre-defined functions</h2>\n"
      ]
    },
    {
      "cell_type": "markdown",
      "id": "eda178a1-0684-4839-91ea-876475fa9a8d",
      "metadata": {},
      "outputs": [],
      "source": [
        "There are many pre-defined functions in Python, so let's start with the simple ones.\n"
      ]
    },
    {
      "cell_type": "markdown",
      "id": "b90c3900-2a98-4fd9-925a-14b3eb813f07",
      "metadata": {},
      "outputs": [],
      "source": [
        "The <code>print()</code> function:\n"
      ]
    },
    {
      "cell_type": "code",
      "id": "d5d8ab72-0707-4445-87c5-06c3579392b2",
      "metadata": {},
      "outputs": [],
      "source": [
        "# Build-in function print()\n\nalbum_ratings = [10.0, 8.5, 9.5, 7.0, 7.0, 9.5, 9.0, 9.5] \nprint(album_ratings)"
      ]
    },
    {
      "cell_type": "markdown",
      "id": "cbcfc231-8288-4b16-8f94-813216ca1e8d",
      "metadata": {},
      "outputs": [],
      "source": [
        "The <code>sum()</code> function adds all the  elements in a list or tuple:\n"
      ]
    },
    {
      "cell_type": "code",
      "id": "e4efe07b-b934-4824-b74a-cea8263ef9ed",
      "metadata": {},
      "outputs": [],
      "source": [
        "# Use sum() to add every element in a list or tuple together\n\nsum(album_ratings)"
      ]
    },
    {
      "cell_type": "markdown",
      "id": "32615e17-d3d5-45d9-98c8-045ef6915066",
      "metadata": {},
      "outputs": [],
      "source": [
        "The <code>len()</code> function returns the length of a list or tuple:\n"
      ]
    },
    {
      "cell_type": "code",
      "id": "33e3bf24-0eb9-4f5d-b97b-2f1a3284f8c3",
      "metadata": {},
      "outputs": [],
      "source": [
        "# Show the length of the list or tuple\n\nlen(album_ratings)"
      ]
    },
    {
      "cell_type": "markdown",
      "id": "edb3fd07-e051-40e1-baa2-e8d9c1356afd",
      "metadata": {},
      "outputs": [],
      "source": [
        "<h2 id=\"if\">Using <code>if</code>/<code>else</code> Statements and Loops in Functions</h2>\n"
      ]
    },
    {
      "cell_type": "markdown",
      "id": "b0c4e106-8abf-4782-806d-7c30290fe4b6",
      "metadata": {},
      "outputs": [],
      "source": [
        "The <code>return()</code> function is particularly useful if you have any IF statements in the function, when you want your output to be dependent on some condition:\n"
      ]
    },
    {
      "cell_type": "code",
      "id": "d3a9febe-7263-4bc2-8051-52f90b153475",
      "metadata": {},
      "outputs": [],
      "source": [
        "# Function example\n\ndef type_of_album(artist, album, year_released):\n    \n    print(artist, album, year_released)\n    if year_released > 1980:\n        return \"Modern\"\n    else:\n        return \"Oldie\"\n    \nx = type_of_album(\"Michael Jackson\", \"Thriller\", 1980)\nprint(x)"
      ]
    },
    {
      "cell_type": "markdown",
      "id": "c7d2fe6a-99da-4733-9c15-bdecf7f7f7c5",
      "metadata": {},
      "outputs": [],
      "source": [
        "We can use a loop in a function. For example, we can <code>print</code> out each element in a list:\n"
      ]
    },
    {
      "cell_type": "code",
      "id": "106a31dc-a305-4a97-89af-ee423d046134",
      "metadata": {},
      "outputs": [],
      "source": [
        "# Print the list using for loop\n\ndef PrintList(the_list):\n    for element in the_list:\n        print(element)"
      ]
    },
    {
      "cell_type": "code",
      "id": "5e3e2c5e-a272-4b37-86ef-92cea3db6413",
      "metadata": {},
      "outputs": [],
      "source": [
        "# Implement the printlist function\n\nPrintList(['1', 1, 'the man', \"abc\"])"
      ]
    },
    {
      "cell_type": "markdown",
      "id": "1fa556fa-024e-4e6d-90be-5ac1c056ad0d",
      "metadata": {},
      "outputs": [],
      "source": [
        "<hr>\n"
      ]
    },
    {
      "cell_type": "markdown",
      "id": "4a0018c9-8356-4926-b0c8-a27990957d24",
      "metadata": {},
      "outputs": [],
      "source": [
        "<h2 id=\"default\">Setting default argument values in your custom functions</h2>\n"
      ]
    },
    {
      "cell_type": "markdown",
      "id": "e417da31-e077-435f-98c0-34e7e9e897f1",
      "metadata": {},
      "outputs": [],
      "source": [
        "You can set a default value for arguments in your function. For example, in the <code>isGoodRating()</code> function, what if we wanted to create a threshold for what we consider to be a good rating? Perhaps by default, we should have a default rating of 4:\n"
      ]
    },
    {
      "cell_type": "code",
      "id": "2a22815a-2762-46a2-a86c-76cbde7636ff",
      "metadata": {},
      "outputs": [],
      "source": [
        "# Example for setting param with default value\n\ndef isGoodRating(rating=4): \n    if(rating < 7):\n        print(\"this album sucks it's rating is\",rating)\n        \n    else:\n        print(\"this album is good its rating is\",rating)\n"
      ]
    },
    {
      "cell_type": "code",
      "id": "86154763-28bd-4976-8016-bc5308c47ddf",
      "metadata": {},
      "outputs": [],
      "source": [
        "# Test the value with default value and with input\n\nisGoodRating()\nisGoodRating(10)"
      ]
    },
    {
      "cell_type": "markdown",
      "id": "e17bbecb-272d-428f-8fbb-f6bc3fa3c454",
      "metadata": {},
      "outputs": [],
      "source": [
        "<hr>\n"
      ]
    },
    {
      "cell_type": "markdown",
      "id": "14332c40-5262-402a-b0e7-bbffea1f57b2",
      "metadata": {},
      "outputs": [],
      "source": [
        "<h2 id=\"global\">Global variables</h2>\n"
      ]
    },
    {
      "cell_type": "markdown",
      "id": "1d52bc7f-5c0c-4ba2-9e98-463411d37905",
      "metadata": {},
      "outputs": [],
      "source": [
        "So far, we've been creating variables within functions, but we have not discussed variables outside the function. These are called global variables. <br>\n",
        "Let's try to see what <code>printer1</code> returns:\n"
      ]
    },
    {
      "cell_type": "code",
      "id": "6aa5e090-be9a-45d0-a323-e0a6693f4b37",
      "metadata": {},
      "outputs": [],
      "source": [
        "# Example of global variable\n\nartist = \"Michael Jackson\"\ndef printer1(artist):\n    internal_var1 = artist\n    print(artist, \"is an artist\")\n    \nprinter1(artist)\n# try runningthe following code\n#printer1(internal_var1) "
      ]
    },
    {
      "cell_type": "markdown",
      "id": "8a1bb14e-0e40-489d-ab9f-3f9101ca6428",
      "metadata": {},
      "outputs": [],
      "source": [
        "<b>We got a Name Error:  <code>name 'internal_var' is not defined</code>. Why?</b>\n",
        "\n",
        "It's because all the variables we create in the function is a <b>local variable</b>, meaning that the variable assignment does not persist outside the function.\n",
        "\n",
        "But there is a way to create <b>global variables</b> from within a function as follows:\n"
      ]
    },
    {
      "cell_type": "code",
      "id": "6d3ea398-9507-4a79-96df-1ec663d252af",
      "metadata": {},
      "outputs": [],
      "source": [
        "artist = \"Michael Jackson\"\n\ndef printer(artist):\n    global internal_var \n    internal_var= \"Whitney Houston\"\n    print(artist,\"is an artist\")\n\nprinter(artist) \nprinter(internal_var)"
      ]
    },
    {
      "cell_type": "markdown",
      "id": "e1c805af-8ec0-4560-b36a-db81618d6bad",
      "metadata": {},
      "outputs": [],
      "source": [
        "<h2 id=\"scope\">Scope of a Variable</h2>\n"
      ]
    },
    {
      "cell_type": "markdown",
      "id": "c626e08b-ce4e-412c-a686-4fa57034f258",
      "metadata": {},
      "outputs": [],
      "source": [
        "The scope of a variable is the part of that program where that variable is accessible. Variables that are declared outside of all function definitions, such as the <code>myFavouriteBand</code> variable in the code shown here, are accessible from anywhere within the program. As a result, such variables are said to have global scope, and are known as global variables. <code>myFavouriteBand</code> is a global variable, so it is accessible from within the <code>getBandRating</code> function, and we can use it to determine a band's rating. We can also use it outside of the function, such as when we pass it to the print function to display it:\n"
      ]
    },
    {
      "cell_type": "code",
      "id": "10710b99-0a9b-463d-9e91-39556e323414",
      "metadata": {},
      "outputs": [],
      "source": [
        "# Example of global variable\n\nmyFavouriteBand = \"AC/DC\"\n\ndef getBandRating(bandname):\n    if bandname == myFavouriteBand:\n        return 10.0\n    else:\n        return 0.0\n\nprint(\"AC/DC's rating is:\", getBandRating(\"AC/DC\"))\nprint(\"Deep Purple's rating is:\",getBandRating(\"Deep Purple\"))\nprint(\"My favourite band is:\", myFavouriteBand)"
      ]
    },
    {
      "cell_type": "markdown",
      "id": "7449d1fe-f648-4824-a3a8-b53088faaea0",
      "metadata": {},
      "outputs": [],
      "source": [
        "Take a look at this modified version of our code. Now the <code>myFavouriteBand</code> variable is defined within the <code>getBandRating</code> function. A variable that is defined within a function is said to be a local variable of that function. That means that it is only accessible from within the function in which it is defined. Our <code>getBandRating</code> function will still work, because <code>myFavouriteBand</code> is still defined within the function. However, we can no longer print <code>myFavouriteBand</code> outside our function, because it is a local variable of our <code>getBandRating</code> function; it is only defined within the <code>getBandRating</code> function:\n"
      ]
    },
    {
      "cell_type": "code",
      "id": "85d7574a-ad7f-4c03-8b92-73e995752643",
      "metadata": {},
      "outputs": [],
      "source": [
        "# Deleting the variable \"myFavouriteBand\" from the previous example to demonstrate an example of a local variable \n\ndel myFavouriteBand\n\n# Example of local variable\n\ndef getBandRating(bandname):\n    myFavouriteBand = \"AC/DC\"\n    if bandname == myFavouriteBand:\n        return 10.0\n    else:\n        return 0.0\n\nprint(\"AC/DC's rating is: \", getBandRating(\"AC/DC\"))\nprint(\"Deep Purple's rating is: \", getBandRating(\"Deep Purple\"))\nprint(\"My favourite band is\", myFavouriteBand)"
      ]
    },
    {
      "cell_type": "markdown",
      "id": "fe70b226-7a3f-498e-89dd-878498380917",
      "metadata": {},
      "outputs": [],
      "source": [
        "Finally, take a look at this example. We now have two <code>myFavouriteBand</code> variable definitions. The first one of these has a global scope, and the second of them is a local variable within the <code>getBandRating</code> function. Within the <code>getBandRating</code> function, the local variable takes precedence. **Deep Purple** will receive a rating of 10.0 when passed to the <code>getBandRating</code> function. However, outside of the <code>getBandRating</code> function, the <code>getBandRating</code> s local variable is not defined, so the <code>myFavouriteBand</code> variable we print is the global variable, which has a value of **AC/DC**:\n"
      ]
    },
    {
      "cell_type": "code",
      "id": "0c55829f-ce21-441d-bc88-da15e1f2a68b",
      "metadata": {},
      "outputs": [],
      "source": [
        "# Example of global variable and local variable with the same name\n\nmyFavouriteBand = \"AC/DC\"\n\ndef getBandRating(bandname):\n    myFavouriteBand = \"Deep Purple\"\n    if bandname == myFavouriteBand:\n        return 10.0\n    else:\n        return 0.0\n\nprint(\"AC/DC's rating is:\",getBandRating(\"AC/DC\"))\nprint(\"Deep Purple's rating is: \",getBandRating(\"Deep Purple\"))\nprint(\"My favourite band is:\",myFavouriteBand)"
      ]
    },
    {
      "cell_type": "markdown",
      "id": "c9d10cc6-96a8-4fa8-8274-86b02efa7c75",
      "metadata": {},
      "outputs": [],
      "source": [
        "<hr>\n",
        "<h2 id =\"collec\"> Collections and Functions</h2>\n"
      ]
    },
    {
      "cell_type": "markdown",
      "id": "d9e66bce-f721-4369-8771-166d7126b2fd",
      "metadata": {},
      "outputs": [],
      "source": [
        "When the number of arguments  are unknown for a function, They can all be packed into a tuple as shown:\n"
      ]
    },
    {
      "cell_type": "code",
      "id": "8a1209bc-f94c-4528-bbbd-a86a1957b897",
      "metadata": {},
      "outputs": [],
      "source": [
        "def printAll(*args): # All the arguments are 'packed' into args which can be treated like a tuple\n    print(\"No of arguments:\", len(args)) \n    for argument in args:\n        print(argument)\n#printAll with 3 arguments\nprintAll('Horsefeather','Adonis','Bone')\n#printAll with 4 arguments\nprintAll('Sidecar','Long Island','Mudslide','Carriage')"
      ]
    },
    {
      "cell_type": "markdown",
      "id": "2af4bc21-c5b4-413d-a964-76565a965447",
      "metadata": {},
      "outputs": [],
      "source": [
        "Similarly, The arguments can also be packed into a dictionary as shown:\n"
      ]
    },
    {
      "cell_type": "code",
      "id": "89d621f5-eed0-4436-a51f-613bed5c0ded",
      "metadata": {},
      "outputs": [],
      "source": [
        "def printDictionary(**args):\n    for key in args:\n        print(key + \" : \" + args[key])\n\nprintDictionary(Country='Canada',Province='Ontario',City='Toronto')\n    "
      ]
    },
    {
      "cell_type": "markdown",
      "id": "98ce3160-ddab-49f0-98d2-407e2b2321b8",
      "metadata": {},
      "outputs": [],
      "source": [
        "Functions can be incredibly powerful and versatile. They can accept (and return) data types, objects and even other functions as arguments. Consider the example below:\n"
      ]
    },
    {
      "cell_type": "code",
      "id": "d27c3c3c-7f1b-4cf4-975e-dd0b4b0939a8",
      "metadata": {},
      "outputs": [],
      "source": [
        "def addItems(list):\n    list.append(\"Three\")\n    list.append(\"Four\")\n\nmyList = [\"One\",\"Two\"]\n\naddItems(myList)\n\nmyList\n    "
      ]
    },
    {
      "cell_type": "markdown",
      "id": "a251c6d2-044d-409d-a7dc-8940fcc2dc43",
      "metadata": {},
      "outputs": [],
      "source": [
        "Note how the changes made to the list are not limited to the function's scope. This occurs as it is the list's **reference** that is passed to the function - Any changes made are on the original instance of the list. Therefore, one should be cautious when passing mutable objects into functions.\n",
        "\n",
        "<hr>\n"
      ]
    },
    {
      "cell_type": "markdown",
      "id": "5973e5b4-a78d-4bad-aecd-1eeb300ed867",
      "metadata": {},
      "outputs": [],
      "source": [
        "<h2>Quiz on Functions</h2>\n"
      ]
    },
    {
      "cell_type": "markdown",
      "id": "1454a018-b76c-4af5-9b2a-7d6745f22569",
      "metadata": {},
      "outputs": [],
      "source": [
        "Come up with a function that divides the first input by the second input:\n"
      ]
    },
    {
      "cell_type": "code",
      "id": "c9cbe019-4307-4295-8b50-4733e190862f",
      "metadata": {},
      "outputs": [],
      "source": [
        "# Write your code below and press Shift+Enter to execute\n"
      ]
    },
    {
      "cell_type": "markdown",
      "id": "5f51b151-ef95-4320-8c38-4e5fe88b8610",
      "metadata": {},
      "outputs": [],
      "source": [
        "<details><summary>Click here for the solution</summary>\n",
        "\n",
        "```python\n",
        "def div(a, b):\n",
        "    return(a/b)\n",
        "    \n",
        "```\n",
        "\n",
        "</details>\n"
      ]
    },
    {
      "cell_type": "markdown",
      "id": "43563afe-28c5-4cd7-b90d-0490814195aa",
      "metadata": {},
      "outputs": [],
      "source": [
        "<hr>\n"
      ]
    },
    {
      "cell_type": "markdown",
      "id": "607301b3-fb72-49ea-893e-7fac876c83e9",
      "metadata": {},
      "outputs": [],
      "source": [
        "Use the function <code>con</code> for the following question.\n"
      ]
    },
    {
      "cell_type": "code",
      "id": "bea0126e-71e2-49c6-87dd-fc78cfb9da67",
      "metadata": {},
      "outputs": [],
      "source": [
        "# Use the con function for the following question\n\ndef con(a, b):\n    return(a + b)"
      ]
    },
    {
      "cell_type": "markdown",
      "id": "fb5086cd-f578-446a-8985-abbbbabb04bc",
      "metadata": {},
      "outputs": [],
      "source": [
        "Can the <code>con</code> function we defined before be used to add two integers or strings?\n"
      ]
    },
    {
      "cell_type": "code",
      "id": "6141792b-66cf-4ce0-b6ed-09e6bbce3e23",
      "metadata": {},
      "outputs": [],
      "source": [
        "# Write your code below and press Shift+Enter to execute\n"
      ]
    },
    {
      "cell_type": "markdown",
      "id": "c58f7bfe-09aa-4d63-91d6-ff76e8112115",
      "metadata": {},
      "outputs": [],
      "source": [
        "<details><summary>Click here for the solution</summary>\n",
        "\n",
        "```python\n",
        "Yes, for example: \n",
        "con(2, 2)\n",
        "    \n",
        "```\n",
        "\n",
        "</details>\n"
      ]
    },
    {
      "cell_type": "markdown",
      "id": "a3fe224f-d7ef-4127-953c-7272455f5202",
      "metadata": {},
      "outputs": [],
      "source": [
        "<hr>\n"
      ]
    },
    {
      "cell_type": "markdown",
      "id": "3f1c031e-7db4-4c11-b92f-e7ded8b41cea",
      "metadata": {},
      "outputs": [],
      "source": [
        "Can the <code>con</code> function we defined before be used to concatenate lists or tuples?\n"
      ]
    },
    {
      "cell_type": "code",
      "id": "a1652bd6-7be3-4f0a-a451-3d3372814c1d",
      "metadata": {},
      "outputs": [],
      "source": [
        "# Write your code below and press Shift+Enter to execute\n"
      ]
    },
    {
      "cell_type": "markdown",
      "id": "eadf4b29-248b-442c-8822-2bd8dfdd666f",
      "metadata": {},
      "outputs": [],
      "source": [
        "<details><summary>Click here for the solution</summary>\n",
        "\n",
        "```python\n",
        "Yes, for example: \n",
        "con(['a', 1], ['b', 1])\n",
        "    \n",
        "```\n",
        "\n",
        "</details>\n"
      ]
    },
    {
      "cell_type": "markdown",
      "id": "7b956c9b-bb77-432d-87ce-388a2d16e8ae",
      "metadata": {},
      "outputs": [],
      "source": [
        "<hr>\n",
        "<h2>The last exercise!</h2>\n",
        "<p>Congratulations, you have completed your first lesson and hands-on lab in Python. \n",
        "<hr>\n"
      ]
    },
    {
      "cell_type": "markdown",
      "id": "e47305a2-e9ff-4f38-91a5-74929b031cf5",
      "metadata": {},
      "outputs": [],
      "source": [
        "## Author\n",
        "\n",
        "<a href=\"https://www.linkedin.com/in/joseph-s-50398b136/?utm_medium=Exinfluencer&utm_source=Exinfluencer&utm_content=000026UJ&utm_term=10006555&utm_id=NA-SkillsNetwork-Channel-SkillsNetworkCoursesIBMDeveloperSkillsNetworkPY0101ENSkillsNetwork19487395-2021-01-01\">Joseph Santarcangelo</a>\n",
        "\n",
        "## Other contributors\n",
        "\n",
        "<a href=\"https://www.linkedin.com/in/jiahui-mavis-zhou-a4537814a?utm_medium=Exinfluencer&utm_source=Exinfluencer&utm_content=000026UJ&utm_term=10006555&utm_id=NA-SkillsNetwork-Channel-SkillsNetworkCoursesIBMDeveloperSkillsNetworkPY0101ENSkillsNetwork19487395-2021-01-01\">Mavis Zhou</a>\n",
        "\n",
        "## Change Log\n",
        "\n",
        "| Date (YYYY-MM-DD) | Version | Changed By | Change Description                                                                                                     |\n",
        "| ----------------- | ------- | ---------- | ---------------------------------------------------------------------------------------------------------------------- |\n",
        "| 2022-01-10        | 0.4     | Malika     | Removed the readme for GitShare                                                                                        |\n",
        "| 2021-04-13        | 0.3     | Malika     | Deleted exercise \"Probability Bag\"                                                                                     |\n",
        "| 2020-08-26        | 0.2     | Lavanya    | Moved lab to course repo in GitLab                                                                                     |\n",
        "| 2020 -09 -04      | 0.2     | Arjun      | Under What is a function, added code/text to further demonstrate the functionality of the return statement             |\n",
        "| 2020 -09 -04      | 0.2     | Arjun      | Under Global Variables, modify the code block to try and print ‘internal_var’ - So a nameError message can be observed |\n",
        "| 2020 -09 -04      | 0.2     | Arjun      | Added section Collections and Functions                                                                                |\n",
        "| 2020 -09 -04      | 0.2     | Arjun      | Added exercise “Probability Bag”                                                                                       |\n",
        "\n",
        "<hr/>\n",
        "\n",
        "## <h3 align=\"center\"> © IBM Corporation 2020. All rights reserved. <h3/>\n"
      ]
    }
  ],
  "metadata": {
    "kernelspec": {
      "display_name": "Python",
      "language": "python",
      "name": "conda-env-python-py"
    },
    "language_info": {
      "name": ""
    }
  },
  "nbformat": 4,
  "nbformat_minor": 4
}