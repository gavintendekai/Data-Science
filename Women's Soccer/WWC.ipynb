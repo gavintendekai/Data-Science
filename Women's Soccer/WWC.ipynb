{
 "cells": [
  {
   "attachments": {},
   "cell_type": "markdown",
   "metadata": {},
   "source": [
    "\n",
    "<center>\n",
    "    <img src=\"https://upload.wikimedia.org/wikipedia/en/thumb/2/24/Logo_of_the_2023_FIFA_Women%27s_World_Cup.svg/1200px-Logo_of_the_2023_FIFA_Women%27s_World_Cup.svg.png\" alt=\"drawing\" width=\"200\" height = \"250\">\n",
    "</center>\n",
    "\n",
    "# <center>  A simple model for predicting the Women's World Cup 2023 </center>\n",
    "\n",
    "\n",
    "## Objectives\n",
    "*   Understand the dataset for each women's international team performance\n",
    "*   Store the dataset in SQLite database.\n",
    "*   Retrieve metadata about tables and columns and query data from mixed case columns.\n",
    "*   Create meaningful statistical relationships using Python's built-in libraries.\n",
    "*   Calculate XG (expected goals) for each women's team.\n",
    "*   Build a model/simulation that predicts who will win the women's World Cup 2023 using regression analysis."
   ]
  },
  {
   "cell_type": "code",
   "execution_count": 12,
   "metadata": {},
   "outputs": [
    {
     "name": "stdout",
     "output_type": "stream",
     "text": [
      "Requirement already satisfied: pip in c:\\users\\mai musarurwa\\appdata\\local\\programs\\python\\python311\\lib\\site-packages (23.1.2)\n",
      "Collecting pip\n",
      "  Downloading pip-23.2-py3-none-any.whl (2.1 MB)\n",
      "                                              0.0/2.1 MB ? eta -:--:--\n",
      "                                              0.0/2.1 MB ? eta -:--:--\n",
      "                                              0.0/2.1 MB ? eta -:--:--\n",
      "                                              0.0/2.1 MB ? eta -:--:--\n",
      "                                              0.0/2.1 MB ? eta -:--:--\n",
      "                                              0.0/2.1 MB ? eta -:--:--\n",
      "                                              0.0/2.1 MB ? eta -:--:--\n",
      "                                              0.0/2.1 MB 93.4 kB/s eta 0:00:22\n",
      "     -                                        0.1/2.1 MB 142.2 kB/s eta 0:00:15\n",
      "     -                                        0.1/2.1 MB 142.2 kB/s eta 0:00:15\n",
      "     -                                        0.1/2.1 MB 180.4 kB/s eta 0:00:12\n",
      "     -                                        0.1/2.1 MB 180.4 kB/s eta 0:00:12\n",
      "     --                                       0.1/2.1 MB 192.5 kB/s eta 0:00:11\n",
      "     --                                       0.1/2.1 MB 194.5 kB/s eta 0:00:11\n",
      "     --                                       0.1/2.1 MB 194.5 kB/s eta 0:00:11\n",
      "     --                                       0.1/2.1 MB 194.5 kB/s eta 0:00:11\n",
      "     ---                                      0.2/2.1 MB 218.5 kB/s eta 0:00:09\n",
      "     ----                                     0.2/2.1 MB 282.7 kB/s eta 0:00:07\n",
      "     ----                                     0.3/2.1 MB 296.5 kB/s eta 0:00:07\n",
      "     ----                                     0.3/2.1 MB 296.5 kB/s eta 0:00:07\n",
      "     -----                                    0.3/2.1 MB 327.4 kB/s eta 0:00:06\n",
      "     -------                                  0.4/2.1 MB 363.9 kB/s eta 0:00:05\n",
      "     --------                                 0.5/2.1 MB 426.7 kB/s eta 0:00:04\n",
      "     ----------                               0.5/2.1 MB 493.5 kB/s eta 0:00:04\n",
      "     -----------                              0.6/2.1 MB 518.8 kB/s eta 0:00:03\n",
      "     -------------                            0.7/2.1 MB 577.5 kB/s eta 0:00:03\n",
      "     --------------                           0.7/2.1 MB 596.4 kB/s eta 0:00:03\n",
      "     ----------------                         0.8/2.1 MB 655.2 kB/s eta 0:00:02\n",
      "     -----------------                        0.9/2.1 MB 694.1 kB/s eta 0:00:02\n",
      "     ------------------                       1.0/2.1 MB 692.7 kB/s eta 0:00:02\n",
      "     -------------------                      1.0/2.1 MB 721.4 kB/s eta 0:00:02\n",
      "     -------------------                      1.0/2.1 MB 721.4 kB/s eta 0:00:02\n",
      "     -------------------                      1.0/2.1 MB 682.7 kB/s eta 0:00:02\n",
      "     ---------------------                    1.1/2.1 MB 708.3 kB/s eta 0:00:02\n",
      "     ---------------------                    1.1/2.1 MB 727.2 kB/s eta 0:00:02\n",
      "     ----------------------                   1.2/2.1 MB 717.6 kB/s eta 0:00:02\n",
      "     -----------------------                  1.2/2.1 MB 728.0 kB/s eta 0:00:02\n",
      "     ------------------------                 1.3/2.1 MB 743.7 kB/s eta 0:00:02\n",
      "     --------------------------               1.4/2.1 MB 764.3 kB/s eta 0:00:01\n",
      "     ---------------------------              1.5/2.1 MB 789.4 kB/s eta 0:00:01\n",
      "     ----------------------------             1.5/2.1 MB 791.9 kB/s eta 0:00:01\n",
      "     ------------------------------           1.6/2.1 MB 809.8 kB/s eta 0:00:01\n",
      "     -------------------------------          1.6/2.1 MB 828.0 kB/s eta 0:00:01\n",
      "     -------------------------------          1.6/2.1 MB 828.0 kB/s eta 0:00:01\n",
      "     -------------------------------          1.6/2.1 MB 828.0 kB/s eta 0:00:01\n",
      "     --------------------------------         1.7/2.1 MB 800.8 kB/s eta 0:00:01\n",
      "     ---------------------------------        1.8/2.1 MB 813.1 kB/s eta 0:00:01\n",
      "     ----------------------------------       1.8/2.1 MB 813.1 kB/s eta 0:00:01\n",
      "     ------------------------------------     1.9/2.1 MB 832.9 kB/s eta 0:00:01\n",
      "     -------------------------------------    2.0/2.1 MB 847.0 kB/s eta 0:00:01\n",
      "     --------------------------------------   2.0/2.1 MB 856.2 kB/s eta 0:00:01\n",
      "     ---------------------------------------  2.1/2.1 MB 866.6 kB/s eta 0:00:01\n",
      "     ---------------------------------------  2.1/2.1 MB 859.4 kB/s eta 0:00:01\n",
      "     ---------------------------------------  2.1/2.1 MB 859.4 kB/s eta 0:00:01\n",
      "     ---------------------------------------  2.1/2.1 MB 859.4 kB/s eta 0:00:01\n",
      "     ---------------------------------------  2.1/2.1 MB 859.4 kB/s eta 0:00:01\n",
      "     ---------------------------------------- 2.1/2.1 MB 790.8 kB/s eta 0:00:00\n",
      "Installing collected packages: pip\n",
      "  Attempting uninstall: pip\n",
      "    Found existing installation: pip 23.1.2\n",
      "    Uninstalling pip-23.1.2:\n",
      "      Successfully uninstalled pip-23.1.2\n",
      "Successfully installed pip-23.2\n",
      "Note: you may need to restart the kernel to use updated packages.\n"
     ]
    },
    {
     "name": "stderr",
     "output_type": "stream",
     "text": [
      "  WARNING: The scripts pip.exe, pip3.11.exe and pip3.exe are installed in 'c:\\Users\\mai musarurwa\\AppData\\Local\\Programs\\Python\\Python311\\Scripts' which is not on PATH.\n",
      "  Consider adding this directory to PATH or, if you prefer to suppress this warning, use --no-warn-script-location.\n"
     ]
    }
   ],
   "source": [
    "pip install --upgrade pip"
   ]
  },
  {
   "cell_type": "code",
   "execution_count": null,
   "metadata": {},
   "outputs": [
    {
     "ename": "",
     "evalue": "",
     "output_type": "error",
     "traceback": [
      "\u001b[1;31mFailed to start the Kernel. \n",
      "\u001b[1;31mUnable to start Kernel 'Python 3.11.4' due to a timeout waiting for the ports to get used. \n",
      "\u001b[1;31mView Jupyter <a href='command:jupyter.viewOutput'>log</a> for further details."
     ]
    }
   ],
   "source": [
    "import pandas\n",
    "import sqlite3\n",
    "import csv"
   ]
  },
  {
   "attachments": {},
   "cell_type": "markdown",
   "metadata": {},
   "source": [
    "## Storing Dataset in SQL\n",
    "In this section I am take the women's world cup dataset from Kaggle and store into an SQLite database."
   ]
  },
  {
   "cell_type": "code",
   "execution_count": 7,
   "metadata": {},
   "outputs": [],
   "source": [
    "con = sqlite3.connect(\"WWC.db\")\n",
    "cur = con.cursor()"
   ]
  },
  {
   "cell_type": "code",
   "execution_count": 8,
   "metadata": {},
   "outputs": [
    {
     "name": "stderr",
     "output_type": "stream",
     "text": [
      "UsageError: Line magic function `%sql` not found.\n"
     ]
    }
   ],
   "source": [
    "%sql sqlite:///WWC.db"
   ]
  },
  {
   "cell_type": "code",
   "execution_count": 5,
   "metadata": {},
   "outputs": [
    {
     "data": {
      "text/plain": [
       "96"
      ]
     },
     "execution_count": 5,
     "metadata": {},
     "output_type": "execute_result"
    }
   ],
   "source": [
    "df = pandas.read_csv(\"https://www.kaggle.com/datasets/martj42/womens-international-football-results?select=results.csv\",  on_bad_lines='skip')\n",
    "df.to_sql(\"WWC\", con, if_exists='replace', index=False,method=\"multi\")"
   ]
  },
  {
   "cell_type": "code",
   "execution_count": 6,
   "metadata": {},
   "outputs": [
    {
     "name": "stderr",
     "output_type": "stream",
     "text": [
      "UsageError: Line magic function `%sql` not found.\n"
     ]
    }
   ],
   "source": [
    "%sql SELECT home_team FROM WWC WHERE type='table'"
   ]
  },
  {
   "cell_type": "code",
   "execution_count": null,
   "metadata": {},
   "outputs": [],
   "source": []
  },
  {
   "cell_type": "code",
   "execution_count": null,
   "metadata": {},
   "outputs": [],
   "source": []
  }
 ],
 "metadata": {
  "kernelspec": {
   "display_name": "Python 3",
   "language": "python",
   "name": "python3"
  },
  "language_info": {
   "codemirror_mode": {
    "name": "ipython",
    "version": 3
   },
   "file_extension": ".py",
   "mimetype": "text/x-python",
   "name": "python",
   "nbconvert_exporter": "python",
   "pygments_lexer": "ipython3",
   "version": "3.11.4"
  },
  "orig_nbformat": 4
 },
 "nbformat": 4,
 "nbformat_minor": 2
}
