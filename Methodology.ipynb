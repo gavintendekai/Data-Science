{
 "cells": [
  {
   "attachments": {},
   "cell_type": "markdown",
   "metadata": {},
   "source": [
    "# Data Science Methodology"
   ]
  },
  {
   "attachments": {},
   "cell_type": "markdown",
   "metadata": {},
   "source": [
    "#### The Data Science Methodology aims to answer the following 10 questions in the prescribed sequence:\n",
    "\n",
    "**From problem to approach:**\n",
    "\n",
    "1. What is the problem that you are trying to solve?\n",
    "\n",
    "2. How can you use data to answer the question?\n",
    "\n",
    "**Working with the data:**\n",
    "\n",
    "3. What data do you need to answer the question?\n",
    "\n",
    "4. Where is the data coming from (identify all sources) and how will you get it\n",
    "\n",
    "5. Is the data that you collected representative of the problem to be solved?\n",
    "\n",
    "6. What additional work is required to manipulate and work with the data?\n",
    "\n",
    "**Deriving the answer:**\n",
    "\n",
    "7. In what way can the data be visualized to get to the answer that is required?\n",
    "\n",
    "8. Does the model used really answer the initial question or does it need to be adjusted?\n",
    "\n",
    "9. Can you put the model into practice?\n",
    "\n",
    "10. Can you get constructive feedback into answering the question?\n"
   ]
  },
  {
   "attachments": {},
   "cell_type": "markdown",
   "metadata": {},
   "source": [
    "### CRISP-DM\n",
    "\n",
    "The CRISP-DM methodology is a process aimed at increasing the use of data mining over a wide variety of business applications and industries. The intent is to take case specific scenarios and general behaviors to make them domain neutral. *CRISP-DM is comprised of six steps with an entity that has to implement in order to have a reasonable chance of success.* "
   ]
  },
  {
   "attachments": {},
   "cell_type": "markdown",
   "metadata": {},
   "source": [
    "![CRISP-DM!](https://cf-courses-data.s3.us.cloud-object-storage.appdomain.cloud/IBMDeveloperSkillsNetwork-DS0103EN-SkillsNetwork/labs/Module%201/images/DS_3.1.0.5-CRISP-DM-Model-2.png)"
   ]
  },
  {
   "attachments": {},
   "cell_type": "markdown",
   "metadata": {},
   "source": [
    "#### The six steps  shown in the diagram are:\n",
    "\n",
    "1. **Business Understanding** \n",
    "This stage is the most important because this is where the intention of the project is outlined. Without clear, concise, and complete perspective of what the project goals are resources will be needlessly expended.\n",
    "\n",
    "2. **Data Understanding** \n",
    "Data understanding relies on business understanding. Data is collected at this stage of the process. The understanding of what the business wants and needs will determine what data is collected, from what sources, and by what methods.\n",
    "\n",
    "3. **Data Preparation** \n",
    " Once the data has been collected, it must be transformed into a useable subset unless it is determined that more data is needed. Once a dataset is chosen, it must then be checked for questionable, missing, or ambiguous cases.\n",
    "\n",
    "4. **Modeling** \n",
    "Once prepared for use, the data must be expressed through whatever appropriate models, give meaningful insights, and hopefully new knowledge. The use of models reveals patterns and structures within the data that provide insight into the features of interest.\n",
    "\n",
    "5. **Evaluation** \n",
    "The selected model must be tested. This is usually done by having a pre-selected test, set to run the trained model on. This will allow you to see the effectiveness of the model on a set it sees as new. Results from this are used to determine efficacy of the model and foreshadows its role in the next and final stage.\n",
    "\n",
    "6. **Deployment**\n",
    "     In the deployment step, the model is used on new data outside of the scope of the dataset and by new stakeholders. The new interactions at this phase might reveal the new variables and needs for the dataset and model. These new challenges could initiate revision of either business needs and actions, or the model and data, or both."
   ]
  },
  {
   "cell_type": "code",
   "execution_count": null,
   "metadata": {},
   "outputs": [],
   "source": []
  },
  {
   "cell_type": "code",
   "execution_count": null,
   "metadata": {},
   "outputs": [],
   "source": []
  }
 ],
 "metadata": {
  "language_info": {
   "name": "python"
  },
  "orig_nbformat": 4
 },
 "nbformat": 4,
 "nbformat_minor": 2
}
